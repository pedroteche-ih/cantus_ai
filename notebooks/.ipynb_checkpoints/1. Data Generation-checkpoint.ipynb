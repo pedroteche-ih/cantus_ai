{
 "cells": [
  {
   "cell_type": "code",
   "execution_count": 1,
   "metadata": {},
   "outputs": [
    {
     "name": "stderr",
     "output_type": "stream",
     "text": [
      "/Users/pedroteche/miniconda3/envs/my_tf_env/lib/python3.10/site-packages/chant21/gabc/converter.py:438: Music21DeprecationWarning: registerSubconverter was deprecated on v9 and will disappear at or after v10. use unregisterSubconverter with capital C\n",
      "  converter.registerSubconverter(ConverterGABC)\n"
     ]
    }
   ],
   "source": [
    "import os\n",
    "\n",
    "import chant21 as ch\n",
    "import pandas as pd\n",
    "from music21 import converter"
   ]
  },
  {
   "cell_type": "code",
   "execution_count": 2,
   "metadata": {},
   "outputs": [],
   "source": [
    "# set root dir to the folder above the script\n",
    "DIRNAME = \"/Users/pedroteche/Documents/GitHub/cantus_ai/\"\n",
    "root_dir = os.path.dirname(DIRNAME)\n",
    "# set working directory to the root dir\n",
    "os.chdir(root_dir)"
   ]
  },
  {
   "cell_type": "code",
   "execution_count": 3,
   "metadata": {},
   "outputs": [],
   "source": [
    "def extractPitches(chant):\n",
    "    pitches = []\n",
    "    for element in chant.flatten().notes:\n",
    "        if element.isNote:\n",
    "            pitches.append(element.pitch)\n",
    "    return [p.nameWithOctave for p in pitches]\n",
    "\n",
    "\n",
    "def extractPitchesVolpiano(volpiano_string):\n",
    "    try:\n",
    "        ch = converter.parse(volpiano_string, format=\"volpiano\")\n",
    "        return extractPitches(ch)\n",
    "    except:\n",
    "        return []"
   ]
  },
  {
   "cell_type": "code",
   "execution_count": 4,
   "metadata": {},
   "outputs": [
    {
     "name": "stderr",
     "output_type": "stream",
     "text": [
      "In /Users/pedroteche/miniconda3/envs/my_tf_env/lib/python3.10/site-packages/matplotlib/mpl-data/stylelib/dark_background.mplstyle: Columns (16) have mixed types. Specify dtype option on import or set low_memory=False.\n"
     ]
    }
   ],
   "source": [
    "tb_chant = pd.read_csv(\"data/chant.csv\")\n",
    "tb_genre = pd.read_csv(\"data/genre.csv\")\n",
    "tb_chant = tb_chant.loc[tb_chant[\"volpiano\"].notna()].copy().reset_index(drop=True)\n",
    "tb_chant[\"volpiano_length\"] = tb_chant[\"volpiano\"].apply(len)\n",
    "p1 = tb_chant[\"volpiano_length\"].quantile(0.05)\n",
    "p2 = tb_chant[\"volpiano_length\"].quantile(0.95)\n",
    "tb_chant = (\n",
    "    tb_chant.loc[\n",
    "        (tb_chant[\"volpiano_length\"] >= p1) & (tb_chant[\"volpiano_length\"] <= p2)\n",
    "    ]\n",
    "    .copy()\n",
    "    .reset_index(drop=True)\n",
    ")"
   ]
  },
  {
   "cell_type": "code",
   "execution_count": 8,
   "metadata": {},
   "outputs": [],
   "source": [
    "# Antiphons\n",
    "genre_list = [\"genre_a\"]\n",
    "type_chant = tb_chant[\"genre_id\"].isin(genre_list)\n",
    "tb_antiphon = tb_chant.loc[type_chant].copy().reset_index(drop=True)\n",
    "tb_antiphon[\"notes\"] = tb_antiphon[\"volpiano\"].apply(extractPitchesVolpiano)\n",
    "tb_antiphon[\"melody_length\"] = tb_antiphon[\"notes\"].apply(len)\n",
    "q1 = tb_antiphon[\"melody_length\"].quantile(0.05)\n",
    "tb_antiphon = (\n",
    "    tb_antiphon.loc[(tb_antiphon[\"melody_length\"] >= q1)].copy().reset_index(drop=True)\n",
    ")\n",
    "tb_antiphon[[\"id\", \"melody_length\", \"notes\", \"mode\"]].explode(\"notes\").reset_index(\n",
    "    drop=True\n",
    ").to_csv(\"output/antiphon_melodies.csv\", index=False)"
   ]
  },
  {
   "cell_type": "code",
   "execution_count": 9,
   "metadata": {},
   "outputs": [],
   "source": [
    "# Chants of the Hours\n",
    "type_chant = (tb_chant[\"office_id\"].notna()) & (tb_chant[\"office_id\"] != \"office_x\")\n",
    "tb_office = tb_chant.loc[type_chant].copy().reset_index(drop=True)\n",
    "tb_office[\"notes\"] = tb_office[\"volpiano\"].apply(extractPitchesVolpiano)\n",
    "tb_office[\"melody_length\"] = tb_office[\"notes\"].apply(len)\n",
    "q1 = tb_office[\"melody_length\"].quantile(0.05)\n",
    "tb_office = (\n",
    "    tb_office.loc[(tb_office[\"melody_length\"] >= q1)].copy().reset_index(drop=True)\n",
    ")\n",
    "tb_office[[\"id\", \"melody_length\", \"notes\", \"mode\"]].explode(\"notes\").reset_index(\n",
    "    drop=True\n",
    ").to_csv(\"output/office_melodies.csv\", index=False)"
   ]
  },
  {
   "cell_type": "code",
   "execution_count": null,
   "metadata": {},
   "outputs": [],
   "source": [
    "# Chants of the Mass\n",
    "tb_genre = tb_genre.dropna(subset=[\"mass_or_office\"])\n",
    "tb_genre[\"mass_or_office\"] = tb_genre[\"mass_or_office\"].map(lambda x: eval(str(x)))\n",
    "tb_mass = (\n",
    "    tb_genre[tb_genre[\"mass_or_office\"].map(lambda x: \"Mass\" in x)]\n",
    "    .copy()\n",
    "    .reset_index(drop=True)\n",
    ")\n",
    "tb_mass = tb_mass.merge(tb_chant, on=\"genre_id\", how=\"inner\")\n",
    "tb_mass[\"notes\"] = tb_mass[\"volpiano\"].apply(extractPitchesVolpiano)\n",
    "tb_mass[\"melody_length\"] = tb_mass[\"notes\"].apply(len)\n",
    "q1 = tb_mass[\"melody_length\"].quantile(0.05)\n",
    "tb_mass = tb_mass.loc[(tb_office[\"melody_length\"] >= q1)].copy().reset_index(drop=True)\n",
    "tb_mass[[\"id\", \"melody_length\", \"notes\", \"mode\"]].explode(\"notes\").reset_index(\n",
    "    drop=True\n",
    ").to_csv(\"output/mass_melodies.csv\", index=False)"
   ]
  },
  {
   "cell_type": "code",
   "execution_count": null,
   "metadata": {},
   "outputs": [],
   "source": []
  }
 ],
 "metadata": {
  "kernelspec": {
   "display_name": "saturn (Python 3)",
   "language": "python",
   "name": "python3"
  },
  "language_info": {
   "codemirror_mode": {
    "name": "ipython",
    "version": 3
   },
   "file_extension": ".py",
   "mimetype": "text/x-python",
   "name": "python",
   "nbconvert_exporter": "python",
   "pygments_lexer": "ipython3",
   "version": "3.10.13"
  }
 },
 "nbformat": 4,
 "nbformat_minor": 4
}
