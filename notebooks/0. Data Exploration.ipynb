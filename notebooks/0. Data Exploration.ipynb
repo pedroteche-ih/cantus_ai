{
 "cells": [
  {
   "cell_type": "code",
   "execution_count": 5,
   "metadata": {},
   "outputs": [],
   "source": [
    "import pandas as pd\n",
    "import chant21 as ch\n",
    "from music21 import converter\n",
    "import os"
   ]
  },
  {
   "cell_type": "code",
   "execution_count": 11,
   "metadata": {},
   "outputs": [],
   "source": [
    "# set root dir to the folder above the script\n",
    "DIRNAME = \"/Users/pedroteche/Documents/GitHub/cantus_ai/\"\n",
    "root_dir = os.path.dirname(DIRNAME)\n",
    "# set working directory to the root dir\n",
    "os.chdir(root_dir)"
   ]
  },
  {
   "cell_type": "code",
   "execution_count": 81,
   "metadata": {},
   "outputs": [],
   "source": [
    "def extractPitches(chant):\n",
    "    pitches = []\n",
    "    for element in chant.flatten().notes:\n",
    "        if element.isNote:\n",
    "            pitches.append(element.pitch)\n",
    "    return [p.nameWithOctave for p in pitches]"
   ]
  },
  {
   "cell_type": "code",
   "execution_count": 37,
   "metadata": {},
   "outputs": [],
   "source": [
    "gabc = '''\n",
    "name:Adeste sancti;\n",
    "office-part:Hymnus;\n",
    "book:Antiphonale Monasticum, 1934, p. 906;\n",
    "%%\n",
    "(c4)\n",
    "A(efwg)Dé(fe)ste(de) San(e)cti(dc) plú(d)rim(fd)no(efe.) (;) Dum(eDC) thu(g')re,(h) ve(i)stra(j) dum(hg) pi(j)is(ivHG.) (:) Co(ih)lún(g)tur(hg) os(fvED)sa(efwg) rí(f')ti(e)bus,(d.) (;) Vo(h)tis(g') fa(h)vé(ivHG')te(h) súp(gvFD'ewfg)pli(fe)cum.(e.) (::)\n",
    "Non(efwg) il(fe)la,(de) quam(e)quam(dc) trí(d)sti(fd)bus(efe.) (;) I(eDC)mum(g') re(h)dá(i)ct<i>a</i>(j) in(j) púl(hg)ve(j)rem(ivHG.) (:) Du(ih)dum(g) se(hg)púl(fvED)chris(efwg)  s()quál(f')le(e)ant,(d.) (;) Di(h)ví(g')na(h) vir(ivjHG')tus(h) dé(gvFD'ewfg)se(fe)rit.(e.) (::)\n",
    "\n",
    "Sed(efwg) san(fe)cta(de) præ(e)sén(dc)ti(d) fo(fd)vet(efe.) (;) Im(eDC)plét(g')que(h) tem(i)pla(j) nú(hg)mi(j)ne,(ivHG.) (:) Sed(ih) et(g) fu(hg)tú(fvED)ræ(efwg) spí(f')ri(e)tus(d.) (;) Post(h) sæ(g')cla(h) ser(ivjHG')vat(h) gló(gvFD'ewfg)ri(fe)æ.(e.) (::)\n",
    "\n",
    "Hinc(efwg) il(fe)le,(de) qui(e) no(dc)stris(d) la(fd)tet(efe.) (;) Ci(eDC)nis(g') sub(h) a(i)ris(j) cón(hg)di(j)tus,(ivHG.) (:) AE(ih)gris(g) me(hg)dé(fvED)tur(efwg) éf(f')fi(e)cax,(d.) (;) Tor(h)quet,(g') fu(h)gát(ivjHG')que(h) dǽ(gvFD'ewfg)mo(fe)nes.(e.) (::)\n",
    "\n",
    "Gló(efwg)ri(fe)a(de) ti(e)bi(dc) Dó(d)mi(fd)ne,(efe.) (;) Qui(eDC) sur(g')re(h)xí(i)st<i>i</i>(j) a(j) mór(hg)tu(j)is,(ivHG.) (:) Cum(ih) pa(g)tr<i>e</i>(h) et(g) san(fvED)cto(efwg) Spí(f')ri(e)tus,(d.) (;) In(h) Sem(g')pi(h)tér(ivjHG')na(h) sǽ(gvFD'ewfg)cu(fe)la.(e.) (::) A(efe)men.(de..) (::)\n",
    "'''"
   ]
  },
  {
   "cell_type": "code",
   "execution_count": 38,
   "metadata": {},
   "outputs": [
    {
     "name": "stderr",
     "output_type": "stream",
     "text": [
      "/Users/pedroteche/miniconda3/envs/my_tf_env/lib/python3.10/site-packages/chant21/chant.py:586: Music21DeprecationWarning: .flat is deprecated.  Call .flatten() instead\n",
      "  lyrics = self.flat.lyrics().get(1, False)\n",
      "/Users/pedroteche/miniconda3/envs/my_tf_env/lib/python3.10/site-packages/music21/stream/base.py:3694: Music21DeprecationWarning: .flat is deprecated.  Call .flatten() instead\n",
      "  return self.iter().getElementsByClass(classFilterList)\n",
      "/Users/pedroteche/miniconda3/envs/my_tf_env/lib/python3.10/site-packages/arpeggio/__init__.py:1025: Music21DeprecationWarning: .flat is deprecated.  Call .flatten() instead\n",
      "  result = getattr(visitor, visit_name)(self, children)\n"
     ]
    }
   ],
   "source": [
    "ch = converter.parse(gabc, format='gabc')\n",
    "pitch_list = extractPitches(ch)"
   ]
  },
  {
   "cell_type": "code",
   "execution_count": 72,
   "metadata": {},
   "outputs": [
    {
     "name": "stderr",
     "output_type": "stream",
     "text": [
      "/var/folders/c2/4vv1dtt97gl9bn1lvw8rf0k40000gn/T/ipykernel_16737/3197319233.py:1: DtypeWarning: Columns (16) have mixed types. Specify dtype option on import or set low_memory=False.\n",
      "  tb_chant = pd.read_csv('data/chant.csv')\n"
     ]
    }
   ],
   "source": [
    "tb_chant = pd.read_csv('data/chant.csv')\n",
    "tb_chant = tb_chant.loc[tb_chant['volpiano'].notna()].copy().reset_index(drop = True)\n"
   ]
  },
  {
   "cell_type": "code",
   "execution_count": 79,
   "metadata": {},
   "outputs": [],
   "source": [
    "ch = converter.parse(tb_chant.loc[4, 'volpiano'], format = 'volpiano')"
   ]
  },
  {
   "cell_type": "code",
   "execution_count": null,
   "metadata": {},
   "outputs": [],
   "source": []
  }
 ],
 "metadata": {
  "kernelspec": {
   "display_name": "my_tf_env",
   "language": "python",
   "name": "python3"
  },
  "language_info": {
   "codemirror_mode": {
    "name": "ipython",
    "version": 3
   },
   "file_extension": ".py",
   "mimetype": "text/x-python",
   "name": "python",
   "nbconvert_exporter": "python",
   "pygments_lexer": "ipython3",
   "version": "3.10.14"
  }
 },
 "nbformat": 4,
 "nbformat_minor": 2
}
