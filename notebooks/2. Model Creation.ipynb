{
 "cells": [
  {
   "cell_type": "code",
   "execution_count": 1,
   "metadata": {
    "execution": {
     "iopub.execute_input": "2024-05-28T05:59:00.467810Z",
     "iopub.status.busy": "2024-05-28T05:59:00.467264Z",
     "iopub.status.idle": "2024-05-28T05:59:06.605296Z",
     "shell.execute_reply": "2024-05-28T05:59:06.604645Z",
     "shell.execute_reply.started": "2024-05-28T05:59:00.467788Z"
    },
    "id": "J5VUMSA34aq7",
    "tags": []
   },
   "outputs": [
    {
     "name": "stderr",
     "output_type": "stream",
     "text": [
      "2024-05-28 05:59:02.011179: E external/local_xla/xla/stream_executor/cuda/cuda_dnn.cc:9261] Unable to register cuDNN factory: Attempting to register factory for plugin cuDNN when one has already been registered\n",
      "2024-05-28 05:59:02.011230: E external/local_xla/xla/stream_executor/cuda/cuda_fft.cc:607] Unable to register cuFFT factory: Attempting to register factory for plugin cuFFT when one has already been registered\n",
      "2024-05-28 05:59:02.012423: E external/local_xla/xla/stream_executor/cuda/cuda_blas.cc:1515] Unable to register cuBLAS factory: Attempting to register factory for plugin cuBLAS when one has already been registered\n",
      "2024-05-28 05:59:02.019531: I tensorflow/core/platform/cpu_feature_guard.cc:182] This TensorFlow binary is optimized to use available CPU instructions in performance-critical operations.\n",
      "To enable the following instructions: AVX2 FMA, in other operations, rebuild TensorFlow with the appropriate compiler flags.\n",
      "2024-05-28 05:59:04.593359: W tensorflow/compiler/tf2tensorrt/utils/py_utils.cc:38] TF-TRT Warning: Could not find TensorRT\n"
     ]
    }
   ],
   "source": [
    "import numpy as np\n",
    "import pandas as pd\n",
    "import joblib\n",
    "from tensorflow.keras.preprocessing.sequence import pad_sequences\n",
    "from tensorflow.keras.layers import Input, Embedding, LSTM, Dense, Attention, Concatenate, Flatten\n",
    "from tensorflow.keras.models import Model\n",
    "from tensorflow.keras.models import load_model\n",
    "from midiutil import MIDIFile\n",
    "import pickle"
   ]
  },
  {
   "cell_type": "code",
   "execution_count": 2,
   "metadata": {
    "execution": {
     "iopub.execute_input": "2024-05-28T05:59:06.607022Z",
     "iopub.status.busy": "2024-05-28T05:59:06.606422Z",
     "iopub.status.idle": "2024-05-28T05:59:06.613447Z",
     "shell.execute_reply": "2024-05-28T05:59:06.612611Z",
     "shell.execute_reply.started": "2024-05-28T05:59:06.606992Z"
    },
    "id": "kVW2ouKw1r1f",
    "tags": []
   },
   "outputs": [],
   "source": [
    "def note_to_midi(note, octave):\n",
    "    # MIDI note numbers for the notes in octave 0\n",
    "    note_map = {\n",
    "        'c': 0, 'c#': 1, 'd': 2, 'd#': 3, 'e': 4, 'f': 5, 'f#': 6,\n",
    "        'g': 7, 'g#': 8, 'a': 9, 'a#': 10, 'b': 11\n",
    "    }\n",
    "\n",
    "    # Convert note to lowercase to handle both upper and lower case inputs\n",
    "    note = note.lower()\n",
    "\n",
    "    # Calculate the MIDI number\n",
    "    midi_number = (octave + 1) * 12 + note_map[note]\n",
    "\n",
    "    return midi_number\n",
    "\n",
    "def melody_to_midi(melody, rhythm_pattern, velocity_pattern, filename):\n",
    "    midi = MIDIFile(1)\n",
    "    midi.addTempo(0, 0, 120)\n",
    "\n",
    "    for i, note in enumerate(melody):\n",
    "        pitch_class = note[:-1]\n",
    "        octave = note[-1]\n",
    "        pitch = note_to_midi(pitch_class.lower(), int(octave))\n",
    "        duration = rhythm_pattern[i % len(rhythm_pattern)]\n",
    "        velocity = velocity_pattern[i % len(velocity_pattern)]\n",
    "        midi.addNote(0, 0, pitch, i, duration, velocity)  # Add note with duration of 1\n",
    "\n",
    "    with open(filename, 'wb') as output_file:\n",
    "        midi.writeFile(output_file)"
   ]
  },
  {
   "cell_type": "code",
   "execution_count": 3,
   "metadata": {
    "execution": {
     "iopub.execute_input": "2024-05-28T05:59:06.614767Z",
     "iopub.status.busy": "2024-05-28T05:59:06.614286Z",
     "iopub.status.idle": "2024-05-28T05:59:06.618209Z",
     "shell.execute_reply": "2024-05-28T05:59:06.617506Z",
     "shell.execute_reply.started": "2024-05-28T05:59:06.614737Z"
    },
    "tags": []
   },
   "outputs": [],
   "source": [
    "import os\n",
    "os.getcwd()\n",
    "os.chdir(\"/home/jovyan/workspace/cantus_ai/\")"
   ]
  },
  {
   "cell_type": "code",
   "execution_count": 4,
   "metadata": {
    "execution": {
     "iopub.execute_input": "2024-05-28T05:59:06.620375Z",
     "iopub.status.busy": "2024-05-28T05:59:06.620044Z",
     "iopub.status.idle": "2024-05-28T05:59:11.871375Z",
     "shell.execute_reply": "2024-05-28T05:59:11.870630Z",
     "shell.execute_reply.started": "2024-05-28T05:59:06.620347Z"
    },
    "id": "w_vDc2kk7bIO",
    "tags": []
   },
   "outputs": [],
   "source": [
    "tb_dorian = pd.read_csv('output/antiphon_melodies.csv')\n",
    "tb_dorian = tb_dorian[tb_dorian['mode'].isin([str(x) for x in range(1, 9)])].dropna()\n",
    "unique_ids = tb_dorian.groupby('id')['notes'].apply(list).reset_index().drop_duplicates(subset = 'notes')['id'].tolist()\n",
    "tb_dorian = tb_dorian[tb_dorian['id'].isin(unique_ids)]\n",
    "test_set = np.random.choice(unique_ids, 100, replace = False)\n",
    "train_data = tb_dorian[~tb_dorian['id'].isin(test_set)]\n",
    "test_data = tb_dorian[tb_dorian['id'].isin(test_set)]\n",
    "melodies = train_data.groupby('id')['notes'].apply(list).tolist()\n",
    "modes = train_data.groupby('id')['mode'].first().to_list()"
   ]
  },
  {
   "cell_type": "code",
   "execution_count": 8,
   "metadata": {
    "colab": {
     "base_uri": "https://localhost:8080/"
    },
    "execution": {
     "iopub.execute_input": "2024-05-28T06:15:10.643532Z",
     "iopub.status.busy": "2024-05-28T06:15:10.643028Z",
     "iopub.status.idle": "2024-05-28T06:15:17.749426Z",
     "shell.execute_reply": "2024-05-28T06:15:17.748660Z",
     "shell.execute_reply.started": "2024-05-28T06:15:10.643504Z"
    },
    "id": "7_wOSAVFcrEm",
    "outputId": "2f364275-e675-4569-9518-00e8c88bcb40",
    "tags": []
   },
   "outputs": [
    {
     "name": "stdout",
     "output_type": "stream",
     "text": [
      "Model: \"LSTM_Model\"\n",
      "__________________________________________________________________________________________________\n",
      " Layer (type)                Output Shape                 Param #   Connected to                  \n",
      "==================================================================================================\n",
      " series_input (InputLayer)   [(None, None)]               0         []                            \n",
      "                                                                                                  \n",
      " series_embedding (Embeddin  (None, None, 24)             672       ['series_input[0][0]']        \n",
      " g)                                                                                               \n",
      "                                                                                                  \n",
      " mode_input (InputLayer)     [(None, 1)]                  0         []                            \n",
      "                                                                                                  \n",
      " lstm1 (LSTM)                (None, None, 32)             7296      ['series_embedding[0][0]']    \n",
      "                                                                                                  \n",
      " mode_embedding (Embedding)  (None, 1, 6)                 54        ['mode_input[0][0]']          \n",
      "                                                                                                  \n",
      " lstm2 (LSTM)                (None, 32)                   8320      ['lstm1[0][0]']               \n",
      "                                                                                                  \n",
      " tf.compat.v1.squeeze_1 (TF  (None, 6)                    0         ['mode_embedding[0][0]']      \n",
      " OpLambda)                                                                                        \n",
      "                                                                                                  \n",
      " position_input (InputLayer  [(None, 1)]                  0         []                            \n",
      " )                                                                                                \n",
      "                                                                                                  \n",
      " concat_layer (Concatenate)  (None, 39)                   0         ['lstm2[0][0]',               \n",
      "                                                                     'tf.compat.v1.squeeze_1[0][0]\n",
      "                                                                    ',                            \n",
      "                                                                     'position_input[0][0]']      \n",
      "                                                                                                  \n",
      " dense1 (Dense)              (None, 64)                   2560      ['concat_layer[0][0]']        \n",
      "                                                                                                  \n",
      " dropout1 (Dropout)          (None, 64)                   0         ['dense1[0][0]']              \n",
      "                                                                                                  \n",
      " batch_norm1 (BatchNormaliz  (None, 64)                   256       ['dropout1[0][0]']            \n",
      " ation)                                                                                           \n",
      "                                                                                                  \n",
      " dense2 (Dense)              (None, 64)                   4160      ['batch_norm1[0][0]']         \n",
      "                                                                                                  \n",
      " dropout2 (Dropout)          (None, 64)                   0         ['dense2[0][0]']              \n",
      "                                                                                                  \n",
      " batch_norm2 (BatchNormaliz  (None, 64)                   256       ['dropout2[0][0]']            \n",
      " ation)                                                                                           \n",
      "                                                                                                  \n",
      " dense3 (Dense)              (None, 64)                   4160      ['batch_norm2[0][0]']         \n",
      "                                                                                                  \n",
      " dropout3 (Dropout)          (None, 64)                   0         ['dense3[0][0]']              \n",
      "                                                                                                  \n",
      " batch_norm3 (BatchNormaliz  (None, 64)                   256       ['dropout3[0][0]']            \n",
      " ation)                                                                                           \n",
      "                                                                                                  \n",
      " output (Dense)              (None, 28)                   1820      ['batch_norm3[0][0]']         \n",
      "                                                                                                  \n",
      "==================================================================================================\n",
      "Total params: 29810 (116.45 KB)\n",
      "Trainable params: 29426 (114.95 KB)\n",
      "Non-trainable params: 384 (1.50 KB)\n",
      "__________________________________________________________________________________________________\n"
     ]
    }
   ],
   "source": [
    "import numpy as np\n",
    "import tensorflow as tf\n",
    "from tensorflow.keras.models import Model\n",
    "from tensorflow.keras.layers import Input, Embedding, LSTM, Dense, Dropout, Concatenate, BatchNormalization\n",
    "from tensorflow.keras.callbacks import EarlyStopping, LearningRateScheduler\n",
    "\n",
    "# Create a vocabulary and mode dictionary\n",
    "vocab = sorted(set([note for melody in melodies for note in melody]))\n",
    "vocab_dict = {note: i + 1 for i, note in enumerate(vocab)}  # Start indexing from 1 for padding\n",
    "vocab_size = len(vocab_dict) + 1  # +1 for padding\n",
    "\n",
    "mode_dict = {mode: i + 1 for i, mode in enumerate(sorted(set(modes)))}\n",
    "mode_vocab_size = len(mode_dict) + 1\n",
    "\n",
    "# Encode melodies and modes using dictionaries\n",
    "encoded_melodies = [[vocab_dict[note] for note in melody] for melody in melodies]\n",
    "encoded_modes = [mode_dict[mode] for mode in modes]\n",
    "\n",
    "# Create position input indicating how many elements are left until the end of the series\n",
    "positions = [[len(melody) - idx - 1 for idx in range(len(melody))] for melody in encoded_melodies]\n",
    "\n",
    "# Prepare data for the model\n",
    "X_series = []\n",
    "X_modes = []\n",
    "X_positions = []\n",
    "y = []\n",
    "\n",
    "for melody, mode, position in zip(encoded_melodies, encoded_modes, positions):\n",
    "    for i in range(1, len(melody)):\n",
    "        X_series.append(melody[:i])\n",
    "        X_modes.append([mode])\n",
    "        X_positions.append([position[i-1]])\n",
    "        y.append(melody[i])\n",
    "\n",
    "# Pad sequences to have the same length\n",
    "X_series = tf.keras.preprocessing.sequence.pad_sequences(X_series, padding='pre')\n",
    "\n",
    "# Convert to numpy arrays\n",
    "X_series = np.array(X_series)\n",
    "X_modes = np.array(X_modes)\n",
    "X_positions = np.array(X_positions)\n",
    "y = np.array(y)\n",
    "\n",
    "# Define cosine decay function for learning rate\n",
    "def cosine_decay(epoch, initial_lr):\n",
    "    cosine_decay = 0.5 * (1 + np.cos(np.pi * epoch / epochs))\n",
    "    return initial_lr * cosine_decay\n",
    "\n",
    "# Parameters\n",
    "embedding_dim = 24\n",
    "lstm_units = 32\n",
    "mode_embedding_dim = 6\n",
    "dense_units = 64\n",
    "dropout_rate = 0.2\n",
    "initial_lr = 0.01\n",
    "epochs = 50\n",
    "\n",
    "# Input layers\n",
    "series_input = Input(shape=(None,), name='series_input')\n",
    "mode_input = Input(shape=(1,), name='mode_input')\n",
    "position_input = Input(shape=(1,), name='position_input')\n",
    "\n",
    "# Embedding layers\n",
    "series_embedding = Embedding(input_dim=vocab_size, output_dim=embedding_dim, name='series_embedding')(series_input)\n",
    "mode_embedding = Embedding(input_dim=mode_vocab_size, output_dim=mode_embedding_dim, name='mode_embedding')(mode_input)\n",
    "\n",
    "# LSTM layer\n",
    "lstm1 = LSTM(units=lstm_units, name='lstm1', return_sequences = True, dropout = 0, recurrent_dropout = 0)(series_embedding)\n",
    "lstm2 = LSTM(units=lstm_units, name='lstm2')(lstm1)\n",
    "\n",
    "# Concatenate embeddings and position input\n",
    "concatenated = Concatenate(name='concat_layer')([lstm2, tf.squeeze(mode_embedding, axis=1), position_input])\n",
    "\n",
    "# Dense layers with dropout and batch normalization\n",
    "dense1 = Dense(units=dense_units, activation='relu', name='dense1')(concatenated)\n",
    "dropout1 = Dropout(rate=dropout_rate, name='dropout1')(dense1)\n",
    "batch_norm1 = BatchNormalization(name='batch_norm1')(dropout1)\n",
    "\n",
    "dense2 = Dense(units=dense_units, activation='relu', name='dense2')(batch_norm1)\n",
    "dropout2 = Dropout(rate=dropout_rate, name='dropout2')(dense2)\n",
    "batch_norm2 = BatchNormalization(name='batch_norm2')(dropout2)\n",
    "\n",
    "\n",
    "dense3 = Dense(units=dense_units, activation='relu', name='dense3')(batch_norm2)\n",
    "dropout3 = Dropout(rate=dropout_rate, name='dropout3')(dense3)\n",
    "batch_norm3 = BatchNormalization(name='batch_norm3')(dropout3)\n",
    "\n",
    "# Output layer\n",
    "output = Dense(units=vocab_size, activation='softmax', name='output')(batch_norm3)\n",
    "\n",
    "# Model\n",
    "model = Model(inputs=[series_input, mode_input, position_input], outputs=output, name='LSTM_Model')\n",
    "\n",
    "# Compile model\n",
    "model.compile(optimizer=tf.keras.optimizers.Adam(learning_rate=initial_lr), loss='sparse_categorical_crossentropy', metrics=['accuracy'])\n",
    "\n",
    "# Callbacks\n",
    "early_stopping = EarlyStopping(monitor='val_loss', patience=3, restore_best_weights=True)\n",
    "lr_scheduler = LearningRateScheduler(schedule=lambda epoch: cosine_decay(epoch, initial_lr))\n",
    "\n",
    "# Summary of the model\n",
    "model.summary()"
   ]
  },
  {
   "cell_type": "code",
   "execution_count": 9,
   "metadata": {
    "colab": {
     "base_uri": "https://localhost:8080/"
    },
    "execution": {
     "iopub.execute_input": "2024-05-28T06:15:17.751216Z",
     "iopub.status.busy": "2024-05-28T06:15:17.750764Z",
     "iopub.status.idle": "2024-05-28T06:38:54.880936Z",
     "shell.execute_reply": "2024-05-28T06:38:54.880234Z",
     "shell.execute_reply.started": "2024-05-28T06:15:17.751186Z"
    },
    "id": "G9_9mRMhyvYu",
    "outputId": "c4a4eca3-a0f1-4e63-b0f8-a2b2b159c279",
    "tags": []
   },
   "outputs": [
    {
     "name": "stdout",
     "output_type": "stream",
     "text": [
      "Epoch 1/50\n"
     ]
    },
    {
     "name": "stderr",
     "output_type": "stream",
     "text": [
      "2024-05-28 06:15:17.817249: W external/local_tsl/tsl/framework/cpu_allocator_impl.cc:83] Allocation of 417514820 exceeds 10% of free system memory.\n"
     ]
    },
    {
     "name": "stdout",
     "output_type": "stream",
     "text": [
      "10523/10523 [==============================] - ETA: 0s - loss: 1.4308 - accuracy: 0.4485"
     ]
    },
    {
     "name": "stderr",
     "output_type": "stream",
     "text": [
      "2024-05-28 06:17:45.498938: W external/local_tsl/tsl/framework/cpu_allocator_impl.cc:83] Allocation of 104378860 exceeds 10% of free system memory.\n"
     ]
    },
    {
     "name": "stdout",
     "output_type": "stream",
     "text": [
      "10523/10523 [==============================] - 161s 15ms/step - loss: 1.4308 - accuracy: 0.4485 - val_loss: 1.2945 - val_accuracy: 0.5089 - lr: 0.0100\n",
      "Epoch 2/50\n",
      "10523/10523 [==============================] - 156s 15ms/step - loss: 1.3301 - accuracy: 0.4954 - val_loss: 1.2555 - val_accuracy: 0.5230 - lr: 0.0100\n",
      "Epoch 3/50\n",
      "10523/10523 [==============================] - 156s 15ms/step - loss: 1.3137 - accuracy: 0.5015 - val_loss: 1.2471 - val_accuracy: 0.5249 - lr: 0.0100\n",
      "Epoch 4/50\n",
      "10523/10523 [==============================] - 156s 15ms/step - loss: 1.3133 - accuracy: 0.5018 - val_loss: 1.2671 - val_accuracy: 0.5130 - lr: 0.0099\n",
      "Epoch 5/50\n",
      "10523/10523 [==============================] - 164s 16ms/step - loss: 1.3162 - accuracy: 0.4983 - val_loss: 1.2485 - val_accuracy: 0.5212 - lr: 0.0098\n",
      "Epoch 6/50\n",
      "10523/10523 [==============================] - 156s 15ms/step - loss: 1.3058 - accuracy: 0.5031 - val_loss: 1.2412 - val_accuracy: 0.5228 - lr: 0.0098\n",
      "Epoch 7/50\n",
      "10523/10523 [==============================] - 156s 15ms/step - loss: 1.3119 - accuracy: 0.4990 - val_loss: 1.2717 - val_accuracy: 0.5076 - lr: 0.0096\n",
      "Epoch 8/50\n",
      "10523/10523 [==============================] - 156s 15ms/step - loss: 1.3192 - accuracy: 0.4944 - val_loss: 1.2659 - val_accuracy: 0.5117 - lr: 0.0095\n",
      "Epoch 9/50\n",
      "10523/10523 [==============================] - 156s 15ms/step - loss: 1.3168 - accuracy: 0.4947 - val_loss: 1.2626 - val_accuracy: 0.5141 - lr: 0.0094\n"
     ]
    },
    {
     "data": {
      "text/plain": [
       "<keras.src.callbacks.History at 0x7f51b69fe440>"
      ]
     },
     "execution_count": 9,
     "metadata": {},
     "output_type": "execute_result"
    }
   ],
   "source": [
    "# Fit model\n",
    "model.fit([X_series, X_modes, X_positions], y,\n",
    "          validation_split=0.2, epochs=epochs, batch_size=64,\n",
    "          callbacks=[early_stopping, lr_scheduler])\n"
   ]
  },
  {
   "cell_type": "code",
   "execution_count": 10,
   "metadata": {
    "colab": {
     "base_uri": "https://localhost:8080/"
    },
    "execution": {
     "iopub.execute_input": "2024-05-28T07:00:11.118091Z",
     "iopub.status.busy": "2024-05-28T07:00:11.117472Z",
     "iopub.status.idle": "2024-05-28T07:00:11.167535Z",
     "shell.execute_reply": "2024-05-28T07:00:11.166895Z",
     "shell.execute_reply.started": "2024-05-28T07:00:11.118068Z"
    },
    "id": "p12jdV3Z59XH",
    "outputId": "f3366c60-3c50-43f4-9950-0e6a7b28f2e4",
    "tags": []
   },
   "outputs": [],
   "source": [
    "# Save the model\n",
    "model.save('models/melody_prediction_model_with_notes_until_end.h5')\n",
    "\n",
    "# Save the dictionaries\n",
    "with open('models/pitch_encoder.pkl', 'wb') as f:\n",
    "    pickle.dump(vocab_dict, f)\n",
    "\n",
    "with open('models/mode_encoder.pkl', 'wb') as f:\n",
    "    pickle.dump(mode_dict, f)"
   ]
  },
  {
   "cell_type": "code",
   "execution_count": 16,
   "metadata": {
    "colab": {
     "base_uri": "https://localhost:8080/"
    },
    "execution": {
     "iopub.execute_input": "2024-05-28T07:31:31.706516Z",
     "iopub.status.busy": "2024-05-28T07:31:31.705930Z",
     "iopub.status.idle": "2024-05-28T07:31:33.918248Z",
     "shell.execute_reply": "2024-05-28T07:31:33.917512Z",
     "shell.execute_reply.started": "2024-05-28T07:31:31.706492Z"
    },
    "id": "rjviivZS59UA",
    "outputId": "e5978eee-a9c2-4f65-cf08-4a092f82049c",
    "tags": []
   },
   "outputs": [
    {
     "name": "stdout",
     "output_type": "stream",
     "text": [
      "1/1 [==============================] - 1s 527ms/step\n",
      "1/1 [==============================] - 1s 527ms/step\n",
      "1/1 [==============================] - 0s 17ms/step\n",
      "1/1 [==============================] - 0s 17ms/step\n",
      "1/1 [==============================] - 0s 17ms/step\n",
      "1/1 [==============================] - 0s 17ms/step\n",
      "1/1 [==============================] - 0s 18ms/step\n",
      "1/1 [==============================] - 0s 17ms/step\n",
      "1/1 [==============================] - 0s 17ms/step\n",
      "1/1 [==============================] - 0s 17ms/step\n",
      "1/1 [==============================] - 0s 17ms/step\n",
      "1/1 [==============================] - 0s 17ms/step\n",
      "1/1 [==============================] - 0s 17ms/step\n",
      "1/1 [==============================] - 0s 17ms/step\n",
      "Extended Sequence: ['F4', 'E4', 'C4', 'D4', 'D4', 'D4', 'C4', 'D4', 'F4', 'F4', 'G4', 'E4', 'C4', 'E4', 'D4', 'D4']\n"
     ]
    }
   ],
   "source": [
    "import numpy as np\n",
    "import tensorflow as tf\n",
    "from tensorflow.keras.models import load_model\n",
    "import pickle\n",
    "\n",
    "# Function to load the model and dictionaries\n",
    "def load_resources(model_path, vocab_dict_path, mode_dict_path):\n",
    "    model = load_model(model_path)\n",
    "    with open(vocab_dict_path, 'rb') as f:\n",
    "        vocab_dict = pickle.load(f)\n",
    "    with open(mode_dict_path, 'rb') as f:\n",
    "        mode_dict = pickle.load(f)\n",
    "    return model, vocab_dict, mode_dict\n",
    "\n",
    "# Function to predict the element probabilities for a given sequence, mode, and remaining notes\n",
    "def predict_element_probabilities(sequence, mode, notes_left, model, vocab_dict, mode_dict):\n",
    "    # Reverse the vocab_dict to get the reverse mapping from indices to elements\n",
    "    index_to_vocab = {index: element for element, index in vocab_dict.items()}\n",
    "\n",
    "    # Encode the sequence and mode using the dictionaries\n",
    "    encoded_sequence = [vocab_dict[element] for element in sequence]\n",
    "    encoded_mode = np.array([mode_dict[mode]]).reshape(1, 1)\n",
    "\n",
    "    # Create the position input based on the notes left in the series\n",
    "    position_input = np.array([[notes_left]])\n",
    "\n",
    "    # Pad the sequence to match the input shape of the model\n",
    "    padded_sequence = tf.keras.preprocessing.sequence.pad_sequences([encoded_sequence], padding='pre')\n",
    "\n",
    "    # Predict the probabilities\n",
    "    probabilities = model.predict([padded_sequence, encoded_mode, position_input])[0]\n",
    "\n",
    "    # Map the probabilities back to the elements\n",
    "    element_probabilities = {index_to_vocab[i]: prob for i, prob in enumerate(probabilities) if i in index_to_vocab}\n",
    "\n",
    "    return element_probabilities\n",
    "\n",
    "# Function to extend a sequence to a specified length using temperature-controlled sampling\n",
    "def extend_sequence(initial_sequence, mode, target_length, temperature, model, vocab_dict, mode_dict):\n",
    "    sequence = initial_sequence[:]\n",
    "    while len(sequence) < target_length:\n",
    "        notes_left = target_length - len(sequence)\n",
    "        element_probabilities = predict_element_probabilities(sequence, mode, notes_left, model, vocab_dict, mode_dict)\n",
    "\n",
    "        # Sort elements by probability\n",
    "        sorted_elements = sorted(element_probabilities.items(), key=lambda item: item[1], reverse=True)\n",
    "\n",
    "        # Determine the number of elements to sample from based on temperature\n",
    "        num_elements = int(len(sorted_elements) * temperature)\n",
    "        num_elements = max(1, num_elements)  # Ensure at least one element is sampled\n",
    "\n",
    "        # Sample the next element based on the adjusted probabilities\n",
    "        elements, probabilities = zip(*sorted_elements[:num_elements])\n",
    "        probabilities = np.array(probabilities) / np.sum(probabilities)  # Normalize probabilities\n",
    "        next_element = np.random.choice(elements, p=probabilities)\n",
    "\n",
    "        # Append the next element to the sequence\n",
    "        sequence.append(next_element)\n",
    "\n",
    "    return sequence\n",
    "\n",
    "# Load resources\n",
    "model, vocab_dict, mode_dict = load_resources('models/v2/melody_prediction_model_with_notes_until_end.h5',\n",
    "                                              'models/v2/pitch_encoder.pkl',\n",
    "                                              'models/v2/mode_encoder.pkl')\n",
    "\n",
    "# Example usage\n",
    "initial_sequence = [\"F4\", \"E4\"]\n",
    "mode = \"2\"\n",
    "target_length = 16\n",
    "temperature = 0.5  # Specify the temperature value\n",
    "extended_sequence = extend_sequence(initial_sequence, mode, target_length, temperature, model, vocab_dict, mode_dict)\n",
    "\n",
    "print(\"Extended Sequence:\", extended_sequence)\n"
   ]
  },
  {
   "cell_type": "code",
   "execution_count": 17,
   "metadata": {
    "execution": {
     "iopub.execute_input": "2024-05-28T07:31:33.920231Z",
     "iopub.status.busy": "2024-05-28T07:31:33.919695Z",
     "iopub.status.idle": "2024-05-28T07:31:33.924621Z",
     "shell.execute_reply": "2024-05-28T07:31:33.923758Z",
     "shell.execute_reply.started": "2024-05-28T07:31:33.920199Z"
    },
    "id": "UNF2alsS9Nc-",
    "tags": []
   },
   "outputs": [],
   "source": [
    "melody_to_midi(extended_sequence,[1, 1, 1], [127, 70, 100, 50], \"generated_melody.mid\")"
   ]
  },
  {
   "cell_type": "code",
   "execution_count": null,
   "metadata": {
    "id": "GGJRCWVsBdY2"
   },
   "outputs": [],
   "source": []
  }
 ],
 "metadata": {
  "accelerator": "TPU",
  "colab": {
   "gpuType": "V28",
   "machine_shape": "hm",
   "provenance": []
  },
  "kernelspec": {
   "display_name": "saturn (Python 3)",
   "language": "python",
   "name": "python3"
  },
  "language_info": {
   "codemirror_mode": {
    "name": "ipython",
    "version": 3
   },
   "file_extension": ".py",
   "mimetype": "text/x-python",
   "name": "python",
   "nbconvert_exporter": "python",
   "pygments_lexer": "ipython3",
   "version": "3.10.13"
  }
 },
 "nbformat": 4,
 "nbformat_minor": 4
}
