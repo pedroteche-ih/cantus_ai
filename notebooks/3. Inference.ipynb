{
  "cells": [
    {
      "cell_type": "code",
      "execution_count": null,
      "metadata": {
        "id": "PMD4Kl8RkaMN"
      },
      "outputs": [],
      "source": [
        "import numpy as np\n",
        "import pandas as pd\n",
        "import joblib\n",
        "from tensorflow.keras.preprocessing.sequence import pad_sequences\n",
        "from tensorflow.keras.layers import (\n",
        "    Input,\n",
        "    Embedding,\n",
        "    LSTM,\n",
        "    Dense,\n",
        "    Attention,\n",
        "    Concatenate,\n",
        "    Flatten,\n",
        ")\n",
        "from tensorflow.keras.models import Model\n",
        "from tensorflow.keras.models import load_model\n",
        "from sklearn.preprocessing import LabelEncoder\n",
        "from midiutil import MIDIFile\n",
        "import pickle\n",
        "\n",
        "import numpy as np\n",
        "import tensorflow as tf\n",
        "from tensorflow.keras.models import load_model\n",
        "import pickle"
      ]
    },
    {
      "cell_type": "code",
      "execution_count": null,
      "metadata": {
        "colab": {
          "base_uri": "https://localhost:8080/"
        },
        "id": "L9IzEJOCkcLz",
        "outputId": "225674eb-82a0-46a8-8e87-cf2911b65e2c"
      },
      "outputs": [],
      "source": [
        "# from google.colab import drive\n",
        "import os\n",
        "\n",
        "# drive.mount('/content/drive')\n",
        "os.chdir(\"/Users/pedroteche/Documents/GitHub/cantus_ai/\")"
      ]
    },
    {
      "cell_type": "code",
      "execution_count": null,
      "metadata": {
        "id": "Y5gDtIeDkdxH"
      },
      "outputs": [],
      "source": [
        "def note_to_midi(note, octave):\n",
        "    # MIDI note numbers for the notes in octave 0\n",
        "    note_map = {\n",
        "        \"c\": 0,\n",
        "        \"c#\": 1,\n",
        "        \"d\": 2,\n",
        "        \"d#\": 3,\n",
        "        \"e\": 4,\n",
        "        \"f\": 5,\n",
        "        \"f#\": 6,\n",
        "        \"g\": 7,\n",
        "        \"g#\": 8,\n",
        "        \"a\": 9,\n",
        "        \"a#\": 10,\n",
        "        \"b\": 11,\n",
        "    }\n",
        "\n",
        "    # Convert note to lowercase to handle both upper and lower case inputs\n",
        "    note = note.lower()\n",
        "\n",
        "    # Calculate the MIDI number\n",
        "    midi_number = (octave + 1) * 12 + note_map[note]\n",
        "\n",
        "    return midi_number\n",
        "\n",
        "\n",
        "def melody_to_midi(melody, rhythm_pattern, velocity_pattern, filename):\n",
        "    midi = MIDIFile(1)\n",
        "    midi.addTempo(0, 0, 120)\n",
        "\n",
        "    for i, note in enumerate(melody):\n",
        "        pitch_class = note[:-1]\n",
        "        octave = note[-1]\n",
        "        pitch = note_to_midi(pitch_class.lower(), int(octave))\n",
        "        duration = rhythm_pattern[i % len(rhythm_pattern)]\n",
        "        velocity = velocity_pattern[i % len(velocity_pattern)]\n",
        "        midi.addNote(0, 0, pitch, i, duration, velocity)  # Add note with duration of 1\n",
        "\n",
        "    with open(filename, \"wb\") as output_file:\n",
        "        midi.writeFile(output_file)\n",
        "\n",
        "\n",
        "# Function to load the model and dictionaries\n",
        "def load_resources(model_path, vocab_dict_path, mode_dict_path):\n",
        "    model = load_model(model_path)\n",
        "    with open(vocab_dict_path, \"rb\") as f:\n",
        "        vocab_dict = pickle.load(f)\n",
        "    with open(mode_dict_path, \"rb\") as f:\n",
        "        mode_dict = pickle.load(f)\n",
        "    return model, vocab_dict, mode_dict\n",
        "\n",
        "\n",
        "# Function to predict the element probabilities for a given sequence, mode, and remaining notes\n",
        "def predict_element_probabilities(\n",
        "    sequence, mode, notes_left, model, vocab_dict, mode_dict\n",
        "):\n",
        "    # Reverse the vocab_dict to get the reverse mapping from indices to elements\n",
        "    index_to_vocab = {index: element for element, index in vocab_dict.items()}\n",
        "\n",
        "    # Encode the sequence and mode using the dictionaries\n",
        "    encoded_sequence = [vocab_dict[element] for element in sequence]\n",
        "    encoded_mode = np.array([mode_dict[mode]]).reshape(1, 1)\n",
        "\n",
        "    # Create the position input based on the notes left in the series\n",
        "    position_input = np.array([[notes_left]])\n",
        "\n",
        "    # Pad the sequence to match the input shape of the model\n",
        "    padded_sequence = tf.keras.preprocessing.sequence.pad_sequences(\n",
        "        [encoded_sequence], padding=\"pre\"\n",
        "    )\n",
        "\n",
        "    # Predict the probabilities\n",
        "    probabilities = model.predict([padded_sequence, encoded_mode, position_input])[0]\n",
        "\n",
        "    # Map the probabilities back to the elements\n",
        "    element_probabilities = {\n",
        "        index_to_vocab[i]: prob\n",
        "        for i, prob in enumerate(probabilities)\n",
        "        if i in index_to_vocab\n",
        "    }\n",
        "\n",
        "    return element_probabilities\n",
        "\n",
        "\n",
        "# Function to extend a sequence to a specified length using temperature-controlled sampling\n",
        "def extend_sequence(\n",
        "    initial_sequence, mode, target_length, temperature, model, vocab_dict, mode_dict\n",
        "):\n",
        "    sequence = initial_sequence[:]\n",
        "    while len(sequence) < target_length:\n",
        "        notes_left = target_length - len(sequence)\n",
        "        element_probabilities = predict_element_probabilities(\n",
        "            sequence, mode, notes_left, model, vocab_dict, mode_dict\n",
        "        )\n",
        "\n",
        "        # Sort elements by probability\n",
        "        sorted_elements = sorted(\n",
        "            element_probabilities.items(), key=lambda item: item[1], reverse=True\n",
        "        )\n",
        "\n",
        "        # Determine the number of elements to sample from based on temperature\n",
        "        num_elements = int(len(sorted_elements) * temperature)\n",
        "        num_elements = max(1, num_elements)  # Ensure at least one element is sampled\n",
        "\n",
        "        # Sample the next element based on the adjusted probabilities\n",
        "        elements, probabilities = zip(*sorted_elements[:num_elements])\n",
        "        probabilities = np.array(probabilities) / np.sum(\n",
        "            probabilities\n",
        "        )  # Normalize probabilities\n",
        "        next_element = np.random.choice(elements, p=probabilities)\n",
        "\n",
        "        # Append the next element to the sequence\n",
        "        sequence.append(next_element)\n",
        "\n",
        "    return sequence"
      ]
    },
    {
      "cell_type": "code",
      "execution_count": null,
      "metadata": {
        "id": "cz41JiD0klzp"
      },
      "outputs": [],
      "source": [
        "# Load resources\n",
        "model, vocab_dict, mode_dict = load_resources(\n",
        "    \"models/v1/mass/melody_prediction_model_with_notes_until_end.h5\",\n",
        "    \"models/v1/mass/pitch_encoder.pkl\",\n",
        "    \"models/v1/mass/mode_encoder.pkl\",\n",
        ")\n",
        "# Example usage\n",
        "initial_sequence = [\"F4\", \"E4\"]\n",
        "mode = \"2\"\n",
        "target_length = 16\n",
        "temperature = 0 # Specify the temperature value\n",
        "final_sequence = extend_sequence(\n",
        "    initial_sequence,\n",
        "    mode,\n",
        "    target_length,\n",
        "    temperature,\n",
        "    model,\n",
        "    vocab_dict,\n",
        "    mode_dict,\n",
        ")"
      ]
    },
    {
      "cell_type": "code",
      "execution_count": null,
      "metadata": {
        "id": "ujUaOSEHnnSG"
      },
      "outputs": [],
      "source": [
        "melody_to_midi(\n",
        "    similar[0][0], [1, 1, 1], [127, 70, 100, 50], \"og1_hypodorian_antiphon.mid\"\n",
        ")"
      ]
    },
    {
      "cell_type": "code",
      "execution_count": null,
      "metadata": {
        "id": "rtYJQWyLnyyp"
      },
      "outputs": [],
      "source": []
    }
  ],
  "metadata": {
    "colab": {
      "provenance": []
    },
    "kernelspec": {
      "display_name": "Python 3",
      "name": "python3"
    },
    "language_info": {
      "codemirror_mode": {
        "name": "ipython",
        "version": 3
      },
      "file_extension": ".py",
      "mimetype": "text/x-python",
      "name": "python",
      "nbconvert_exporter": "python",
      "pygments_lexer": "ipython3",
      "version": "3.10.14"
    }
  },
  "nbformat": 4,
  "nbformat_minor": 0
}
