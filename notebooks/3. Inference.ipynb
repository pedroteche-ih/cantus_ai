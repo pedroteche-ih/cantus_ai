{
 "cells": [
  {
   "cell_type": "code",
   "execution_count": 6,
   "metadata": {
    "execution": {
     "iopub.execute_input": "2024-05-28T16:48:16.944237Z",
     "iopub.status.busy": "2024-05-28T16:48:16.943758Z",
     "iopub.status.idle": "2024-05-28T16:48:16.948070Z",
     "shell.execute_reply": "2024-05-28T16:48:16.947311Z",
     "shell.execute_reply.started": "2024-05-28T16:48:16.944216Z"
    },
    "id": "PMD4Kl8RkaMN",
    "tags": []
   },
   "outputs": [],
   "source": [
    "import numpy as np\n",
    "import pandas as pd\n",
    "import joblib\n",
    "from tensorflow.keras.preprocessing.sequence import pad_sequences\n",
    "from tensorflow.keras.layers import (\n",
    "    Input,\n",
    "    Embedding,\n",
    "    LSTM,\n",
    "    Dense,\n",
    "    Attention,\n",
    "    Concatenate,\n",
    "    Flatten,\n",
    ")\n",
    "from tensorflow.keras.models import Model\n",
    "from tensorflow.keras.models import load_model\n",
    "from midiutil import MIDIFile\n",
    "import pickle\n"
   ]
  },
  {
   "cell_type": "code",
   "execution_count": 8,
   "metadata": {
    "colab": {
     "base_uri": "https://localhost:8080/"
    },
    "execution": {
     "iopub.execute_input": "2024-05-28T16:50:19.661958Z",
     "iopub.status.busy": "2024-05-28T16:50:19.661569Z",
     "iopub.status.idle": "2024-05-28T16:50:19.665456Z",
     "shell.execute_reply": "2024-05-28T16:50:19.664684Z",
     "shell.execute_reply.started": "2024-05-28T16:50:19.661938Z"
    },
    "id": "L9IzEJOCkcLz",
    "outputId": "225674eb-82a0-46a8-8e87-cf2911b65e2c",
    "tags": []
   },
   "outputs": [],
   "source": [
    "# from google.colab import drive\n",
    "import os\n",
    "\n",
    "# drive.mount('/content/drive')\n",
    "os.chdir(\"/home/jovyan/workspace/cantus_ai/\")"
   ]
  },
  {
   "cell_type": "code",
   "execution_count": 9,
   "metadata": {
    "execution": {
     "iopub.execute_input": "2024-05-28T16:50:20.553879Z",
     "iopub.status.busy": "2024-05-28T16:50:20.553460Z",
     "iopub.status.idle": "2024-05-28T16:50:20.564789Z",
     "shell.execute_reply": "2024-05-28T16:50:20.564079Z",
     "shell.execute_reply.started": "2024-05-28T16:50:20.553858Z"
    },
    "id": "Y5gDtIeDkdxH",
    "tags": []
   },
   "outputs": [],
   "source": [
    "def note_to_midi(note, octave):\n",
    "    # MIDI note numbers for the notes in octave 0\n",
    "    note_map = {\n",
    "        \"c\": 0,\n",
    "        \"c#\": 1,\n",
    "        \"d\": 2,\n",
    "        \"d#\": 3,\n",
    "        \"e\": 4,\n",
    "        \"f\": 5,\n",
    "        \"f#\": 6,\n",
    "        \"g\": 7,\n",
    "        \"g#\": 8,\n",
    "        \"a\": 9,\n",
    "        \"a#\": 10,\n",
    "        \"b\": 11,\n",
    "    }\n",
    "\n",
    "    # Convert note to lowercase to handle both upper and lower case inputs\n",
    "    note = note.lower()\n",
    "\n",
    "    # Calculate the MIDI number\n",
    "    midi_number = (octave + 1) * 12 + note_map[note]\n",
    "\n",
    "    return midi_number\n",
    "\n",
    "\n",
    "def melody_to_midi(melody, rhythm_pattern, velocity_pattern, filename):\n",
    "    midi = MIDIFile(1)\n",
    "    midi.addTempo(0, 0, 120)\n",
    "\n",
    "    for i, note in enumerate(melody):\n",
    "        pitch_class = note[:-1]\n",
    "        octave = note[-1]\n",
    "        pitch = note_to_midi(pitch_class.lower(), int(octave))\n",
    "        duration = rhythm_pattern[i % len(rhythm_pattern)]\n",
    "        velocity = velocity_pattern[i % len(velocity_pattern)]\n",
    "        midi.addNote(0, 0, pitch, i, duration, velocity)  # Add note with duration of 1\n",
    "\n",
    "    with open(filename, \"wb\") as output_file:\n",
    "        midi.writeFile(output_file)\n",
    "\n",
    "\n",
    "# Function to load the model and dictionaries\n",
    "def load_resources(model_path, vocab_dict_path, mode_dict_path):\n",
    "    model = load_model(model_path)\n",
    "    with open(vocab_dict_path, \"rb\") as f:\n",
    "        vocab_dict = pickle.load(f)\n",
    "    with open(mode_dict_path, \"rb\") as f:\n",
    "        mode_dict = pickle.load(f)\n",
    "    return model, vocab_dict, mode_dict\n",
    "\n",
    "\n",
    "# Function to predict the element probabilities for a given sequence, mode, and remaining notes\n",
    "def predict_element_probabilities(\n",
    "    sequence, mode, notes_left, model, vocab_dict, mode_dict\n",
    "):\n",
    "    # Reverse the vocab_dict to get the reverse mapping from indices to elements\n",
    "    index_to_vocab = {index: element for element, index in vocab_dict.items()}\n",
    "\n",
    "    # Encode the sequence and mode using the dictionaries\n",
    "    encoded_sequence = [vocab_dict[element] for element in sequence]\n",
    "    encoded_mode = np.array([mode_dict[mode]]).reshape(1, 1)\n",
    "\n",
    "    # Create the position input based on the notes left in the series\n",
    "    position_input = np.array([[notes_left]])\n",
    "\n",
    "    # Pad the sequence to match the input shape of the model\n",
    "    padded_sequence = tf.keras.preprocessing.sequence.pad_sequences(\n",
    "        [encoded_sequence], padding=\"pre\"\n",
    "    )\n",
    "\n",
    "    # Predict the probabilities\n",
    "    probabilities = model.predict([padded_sequence, encoded_mode, position_input])[0]\n",
    "\n",
    "    # Map the probabilities back to the elements\n",
    "    element_probabilities = {\n",
    "        index_to_vocab[i]: prob\n",
    "        for i, prob in enumerate(probabilities)\n",
    "        if i in index_to_vocab\n",
    "    }\n",
    "\n",
    "    return element_probabilities\n",
    "\n",
    "\n",
    "# Function to extend a sequence to a specified length using temperature-controlled sampling\n",
    "def extend_sequence(\n",
    "    initial_sequence, mode, target_length, temperature, model, vocab_dict, mode_dict\n",
    "):\n",
    "    sequence = initial_sequence[:]\n",
    "    while len(sequence) < target_length:\n",
    "        notes_left = target_length - len(sequence)\n",
    "        element_probabilities = predict_element_probabilities(\n",
    "            sequence, mode, notes_left, model, vocab_dict, mode_dict\n",
    "        )\n",
    "\n",
    "        # Sort elements by probability\n",
    "        sorted_elements = sorted(\n",
    "            element_probabilities.items(), key=lambda item: item[1], reverse=True\n",
    "        )\n",
    "\n",
    "        # Determine the number of elements to sample from based on temperature\n",
    "        num_elements = int(len(sorted_elements) * temperature)\n",
    "        num_elements = max(1, num_elements)  # Ensure at least one element is sampled\n",
    "\n",
    "        # Sample the next element based on the adjusted probabilities\n",
    "        elements, probabilities = zip(*sorted_elements[:num_elements])\n",
    "        probabilities = np.array(probabilities) / np.sum(\n",
    "            probabilities\n",
    "        )  # Normalize probabilities\n",
    "        next_element = np.random.choice(elements, p=probabilities)\n",
    "\n",
    "        # Append the next element to the sequence\n",
    "        sequence.append(next_element)\n",
    "\n",
    "    return sequence"
   ]
  },
  {
   "cell_type": "code",
   "execution_count": 22,
   "metadata": {
    "execution": {
     "iopub.execute_input": "2024-05-28T16:53:00.582805Z",
     "iopub.status.busy": "2024-05-28T16:53:00.582239Z",
     "iopub.status.idle": "2024-05-28T16:53:02.794554Z",
     "shell.execute_reply": "2024-05-28T16:53:02.793839Z",
     "shell.execute_reply.started": "2024-05-28T16:53:00.582783Z"
    },
    "id": "cz41JiD0klzp",
    "tags": []
   },
   "outputs": [
    {
     "name": "stdout",
     "output_type": "stream",
     "text": [
      "1/1 [==============================] - 1s 519ms/step\n",
      "1/1 [==============================] - 1s 505ms/step\n",
      "1/1 [==============================] - 0s 18ms/step\n",
      "1/1 [==============================] - 0s 17ms/step\n",
      "1/1 [==============================] - 0s 18ms/step\n",
      "1/1 [==============================] - 0s 18ms/step\n",
      "1/1 [==============================] - 0s 18ms/step\n",
      "1/1 [==============================] - 0s 18ms/step\n",
      "1/1 [==============================] - 0s 18ms/step\n",
      "1/1 [==============================] - 0s 18ms/step\n",
      "1/1 [==============================] - 0s 17ms/step\n",
      "1/1 [==============================] - 0s 18ms/step\n",
      "1/1 [==============================] - 0s 18ms/step\n",
      "1/1 [==============================] - 0s 18ms/step\n"
     ]
    }
   ],
   "source": [
    "# Load resources\n",
    "model, vocab_dict, mode_dict = load_resources(\n",
    "    \"models/v1/mass/melody_prediction_model_with_notes_until_end.h5\",\n",
    "    \"models/v1/mass/pitch_encoder.pkl\",\n",
    "    \"models/v1/mass/mode_encoder.pkl\",\n",
    ")\n",
    "# Example usage\n",
    "initial_sequence = [\"A3\", \"D4\"]\n",
    "mode = \"2\"\n",
    "target_length = 16\n",
    "temperature = 1 # Specify the temperature value\n",
    "mass_sequence = extend_sequence(\n",
    "    initial_sequence,\n",
    "    mode,\n",
    "    target_length,\n",
    "    temperature,\n",
    "    model,\n",
    "    vocab_dict,\n",
    "    mode_dict,\n",
    ")"
   ]
  },
  {
   "cell_type": "code",
   "execution_count": 23,
   "metadata": {
    "execution": {
     "iopub.execute_input": "2024-05-28T16:53:05.214806Z",
     "iopub.status.busy": "2024-05-28T16:53:05.214345Z",
     "iopub.status.idle": "2024-05-28T16:53:07.399660Z",
     "shell.execute_reply": "2024-05-28T16:53:07.399086Z",
     "shell.execute_reply.started": "2024-05-28T16:53:05.214785Z"
    },
    "tags": []
   },
   "outputs": [
    {
     "name": "stdout",
     "output_type": "stream",
     "text": [
      "1/1 [==============================] - 1s 505ms/step\n",
      "1/1 [==============================] - 1s 502ms/step\n",
      "1/1 [==============================] - 0s 18ms/step\n",
      "1/1 [==============================] - 0s 17ms/step\n",
      "1/1 [==============================] - 0s 17ms/step\n",
      "1/1 [==============================] - 0s 17ms/step\n",
      "1/1 [==============================] - 0s 18ms/step\n",
      "1/1 [==============================] - 0s 18ms/step\n",
      "1/1 [==============================] - 0s 21ms/step\n",
      "1/1 [==============================] - 0s 18ms/step\n",
      "1/1 [==============================] - 0s 17ms/step\n",
      "1/1 [==============================] - 0s 17ms/step\n",
      "1/1 [==============================] - 0s 18ms/step\n",
      "1/1 [==============================] - 0s 18ms/step\n"
     ]
    }
   ],
   "source": [
    "# Load resources\n",
    "model, vocab_dict, mode_dict = load_resources(\n",
    "    \"models/v1/office/melody_prediction_model_with_notes_until_end.h5\",\n",
    "    \"models/v1/office/pitch_encoder.pkl\",\n",
    "    \"models/v1/office/mode_encoder.pkl\",\n",
    ")\n",
    "# Example usage\n",
    "initial_sequence = [\"A3\", \"D4\"]\n",
    "mode = \"2\"\n",
    "target_length = 16\n",
    "temperature = 1 # Specify the temperature value\n",
    "office_sequence = extend_sequence(\n",
    "    initial_sequence,\n",
    "    mode,\n",
    "    target_length,\n",
    "    temperature,\n",
    "    model,\n",
    "    vocab_dict,\n",
    "    mode_dict,\n",
    ")"
   ]
  },
  {
   "cell_type": "code",
   "execution_count": 24,
   "metadata": {
    "execution": {
     "iopub.execute_input": "2024-05-28T16:53:07.401022Z",
     "iopub.status.busy": "2024-05-28T16:53:07.400818Z",
     "iopub.status.idle": "2024-05-28T16:53:07.405341Z",
     "shell.execute_reply": "2024-05-28T16:53:07.404646Z",
     "shell.execute_reply.started": "2024-05-28T16:53:07.401003Z"
    },
    "tags": []
   },
   "outputs": [
    {
     "name": "stdout",
     "output_type": "stream",
     "text": [
      "['A3', 'D4', 'E4', 'F4', 'G4', 'A4', 'B4', 'A4', 'G4', 'A4', 'G4', 'E4', 'G4', 'F4', 'F4', 'F4']\n",
      "['A3', 'D4', 'D4', 'D4', 'G4', 'G4', 'G4', 'A4', 'G4', 'G4', 'A4', 'C5', 'A4', 'A4', 'B4', 'A4']\n"
     ]
    }
   ],
   "source": [
    "print(mass_sequence)\n",
    "print(office_sequence)"
   ]
  },
  {
   "cell_type": "code",
   "execution_count": null,
   "metadata": {
    "id": "ujUaOSEHnnSG"
   },
   "outputs": [],
   "source": [
    "melody_to_midi(\n",
    "    similar[0][0], [1, 1, 1], [127, 70, 100, 50], \"og1_hypodorian_antiphon.mid\"\n",
    ")"
   ]
  },
  {
   "cell_type": "code",
   "execution_count": null,
   "metadata": {},
   "outputs": [],
   "source": []
  },
  {
   "cell_type": "code",
   "execution_count": null,
   "metadata": {
    "id": "rtYJQWyLnyyp"
   },
   "outputs": [],
   "source": []
  }
 ],
 "metadata": {
  "colab": {
   "provenance": []
  },
  "kernelspec": {
   "display_name": "saturn (Python 3)",
   "language": "python",
   "name": "python3"
  },
  "language_info": {
   "codemirror_mode": {
    "name": "ipython",
    "version": 3
   },
   "file_extension": ".py",
   "mimetype": "text/x-python",
   "name": "python",
   "nbconvert_exporter": "python",
   "pygments_lexer": "ipython3",
   "version": "3.10.13"
  }
 },
 "nbformat": 4,
 "nbformat_minor": 4
}
